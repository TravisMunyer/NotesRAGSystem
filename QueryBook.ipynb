{
 "cells": [
  {
   "cell_type": "code",
   "id": "initial_id",
   "metadata": {
    "collapsed": true,
    "ExecuteTime": {
     "end_time": "2025-06-19T01:33:33.817350Z",
     "start_time": "2025-06-19T01:33:29.633229Z"
    }
   },
   "source": [
    "import torch\n",
    "\n",
    "from document_loader import load_and_chunk_docs\n",
    "from embedder import Embedder\n",
    "from generator import Generator\n",
    "from config import DOCS_FOLDER, EMBEDDING_MODEL_NAME, LLM_MODEL_NAME"
   ],
   "outputs": [],
   "execution_count": 1
  },
  {
   "metadata": {
    "ExecuteTime": {
     "end_time": "2025-06-19T01:33:33.820587Z",
     "start_time": "2025-06-19T01:33:33.817350Z"
    }
   },
   "cell_type": "code",
   "source": [
    "def rag_answer(query):\n",
    "    relevant_docs = embedder.retrieve(query, k=3)\n",
    "    context = \"\\n\".join([doc.page_content for doc in relevant_docs])\n",
    "    return generator.generate(context, query)"
   ],
   "id": "919868f33991874a",
   "outputs": [],
   "execution_count": 2
  },
  {
   "metadata": {
    "ExecuteTime": {
     "end_time": "2025-06-19T01:33:44.159245Z",
     "start_time": "2025-06-19T01:33:33.821099Z"
    }
   },
   "cell_type": "code",
   "source": [
    "docs = load_and_chunk_docs(DOCS_FOLDER)\n",
    "\n",
    "embedder = Embedder(EMBEDDING_MODEL_NAME)\n",
    "embedder.build_vectorstore(docs)\n",
    "\n",
    "generator = Generator(LLM_MODEL_NAME, max_tokens=500)"
   ],
   "id": "2337b6a21b39d5fe",
   "outputs": [
    {
     "data": {
      "text/plain": [
       "Fetching 5 files:   0%|          | 0/5 [00:00<?, ?it/s]"
      ],
      "application/vnd.jupyter.widget-view+json": {
       "version_major": 2,
       "version_minor": 0,
       "model_id": "fdeb6992131d48a797dcef41cbba3f69"
      }
     },
     "metadata": {},
     "output_type": "display_data"
    },
    {
     "data": {
      "text/plain": [
       "Loading checkpoint shards:   0%|          | 0/5 [00:00<?, ?it/s]"
      ],
      "application/vnd.jupyter.widget-view+json": {
       "version_major": 2,
       "version_minor": 0,
       "model_id": "901984eed74f4c8a9a5b20cbfd885fdf"
      }
     },
     "metadata": {},
     "output_type": "display_data"
    },
    {
     "name": "stderr",
     "output_type": "stream",
     "text": [
      "Device set to use cuda:0\n"
     ]
    }
   ],
   "execution_count": 3
  },
  {
   "metadata": {
    "jupyter": {
     "is_executing": true
    },
    "ExecuteTime": {
     "start_time": "2025-06-19T01:35:25.932215Z"
    }
   },
   "cell_type": "code",
   "source": [
    "query = \"The context documents are from a student. Can you tell me what they have learned?\"\n",
    "res = rag_answer(query)"
   ],
   "id": "2e4014e1e0fbfc11",
   "outputs": [],
   "execution_count": null
  },
  {
   "metadata": {
    "ExecuteTime": {
     "end_time": "2025-06-19T01:34:20.145502Z",
     "start_time": "2025-06-19T01:34:20.141905Z"
    }
   },
   "cell_type": "code",
   "source": "print(res['answer'])",
   "id": "14ba31af8ec0d4fd",
   "outputs": [
    {
     "name": "stdout",
     "output_type": "stream",
     "text": [
      "Yes, from the context, the student has learned about Reinforcement Learning (RL) basics, including:\n",
      "- Communication between an agent and an environment\n",
      "- Rewards based on observing the environment\n",
      "- Plans (fixed sequences of actions) and conditional plans\n",
      "- Stationary policies and universal plans\n",
      "- Solution concepts\n",
      "- Mechanism design\n",
      "- Decentralized Partially Observable Markov Decision Process (DEC-POMDP)\n",
      "- Centralized Training with Decentralized Execution\n",
      "- Game Theory Reloaded, including repeated games and the folk theorem.\n",
      "\n",
      "The student has also learned terminology such as CCC (Coordinating Communicating Coaching) and MARL (Multi-Agent Reinforcement Learning). \n",
      "\n",
      "Overall, the student has covered the basics of RL, including key concepts, terminology, and ideas. They have also touched on related areas such as mechanism design, game theory, and multi-agent reinforcement learning. The student seems to have a good understanding of these topics, but it is difficult to determine their level of expertise without more information. \n",
      "\n",
      "It's worth noting that the student seems to be studying for a test or exam, as indicated by the timestamp \"Monday, January 13, 2025, 5:38 PM\". This suggests that the student is in a learning phase and is reviewing material in preparation for a test or exam.  I hope this summary helps. \n",
      "\n",
      "Also, if you would like me to analyze the student's understanding further, please let me know. I can try to identify areas where the student may need further clarification or review. \n",
      "\n",
      "Is there anything else you would like me to help you with? \n",
      "\n",
      "Also, I noticed that the student has mentioned that the Folk theorem is known to experts in the field but not published in a proven, complete way. This suggests that the student is aware of some of the nuances and complexities of the material they are studying. \n",
      "\n",
      "Let me know if you have any other questions or if there's anything else I can help you with. I'm here to help. \n",
      "\n",
      "Best regards, [Your Name] \n",
      "\n",
      "Please let me know if you would like me to analyze the student's understanding further or if there's anything else I can help you with. I'm here to help. \n",
      "\n",
      "Best regards, [Your Name] \n",
      "\n",
      "Please let me know if you would like me to analyze the student's understanding further or if there's anything else I can help you with. I'm here to help. \n",
      "\n",
      "Best regards, [Your Name] \n",
      "\n",
      "Please let\n"
     ]
    }
   ],
   "execution_count": 6
  },
  {
   "metadata": {},
   "cell_type": "code",
   "outputs": [],
   "execution_count": null,
   "source": "",
   "id": "ec764a5ace007bf2"
  }
 ],
 "metadata": {
  "kernelspec": {
   "display_name": "Python 3",
   "language": "python",
   "name": "python3"
  },
  "language_info": {
   "codemirror_mode": {
    "name": "ipython",
    "version": 2
   },
   "file_extension": ".py",
   "mimetype": "text/x-python",
   "name": "python",
   "nbconvert_exporter": "python",
   "pygments_lexer": "ipython2",
   "version": "2.7.6"
  }
 },
 "nbformat": 4,
 "nbformat_minor": 5
}
