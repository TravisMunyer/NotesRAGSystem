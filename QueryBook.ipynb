{
 "cells": [
  {
   "cell_type": "code",
   "id": "initial_id",
   "metadata": {
    "collapsed": true,
    "ExecuteTime": {
     "end_time": "2025-05-21T03:51:13.214979Z",
     "start_time": "2025-05-21T03:51:09.016371Z"
    }
   },
   "source": [
    "import torch\n",
    "\n",
    "from document_loader import load_and_chunk_docs\n",
    "from embedder import Embedder\n",
    "from generator import Generator\n",
    "from config import DOCS_FOLDER, EMBEDDING_MODEL_NAME, LLM_MODEL_NAME"
   ],
   "outputs": [],
   "execution_count": 1
  },
  {
   "metadata": {
    "ExecuteTime": {
     "end_time": "2025-05-21T03:51:13.218429Z",
     "start_time": "2025-05-21T03:51:13.214979Z"
    }
   },
   "cell_type": "code",
   "source": [
    "def rag_answer(query):\n",
    "    relevant_docs = embedder.retrieve(query, k=5)\n",
    "    context = \"\\n\".join([doc.page_content for doc in relevant_docs])\n",
    "    return generator.generate(context, query)"
   ],
   "id": "919868f33991874a",
   "outputs": [],
   "execution_count": 2
  },
  {
   "metadata": {
    "ExecuteTime": {
     "end_time": "2025-05-21T03:51:38.526247Z",
     "start_time": "2025-05-21T03:51:13.219026Z"
    }
   },
   "cell_type": "code",
   "source": [
    "docs = load_and_chunk_docs(DOCS_FOLDER)\n",
    "\n",
    "embedder = Embedder(EMBEDDING_MODEL_NAME)\n",
    "embedder.build_vectorstore(docs)\n",
    "\n",
    "generator = Generator(LLM_MODEL_NAME)"
   ],
   "id": "2337b6a21b39d5fe",
   "outputs": [
    {
     "data": {
      "text/plain": [
       "Fetching 5 files:   0%|          | 0/5 [00:00<?, ?it/s]"
      ],
      "application/vnd.jupyter.widget-view+json": {
       "version_major": 2,
       "version_minor": 0,
       "model_id": "04021645525545f496674da199370069"
      }
     },
     "metadata": {},
     "output_type": "display_data"
    },
    {
     "data": {
      "text/plain": [
       "Loading checkpoint shards:   0%|          | 0/5 [00:00<?, ?it/s]"
      ],
      "application/vnd.jupyter.widget-view+json": {
       "version_major": 2,
       "version_minor": 0,
       "model_id": "03c9715b2a044f57bdc60934be3e831c"
      }
     },
     "metadata": {},
     "output_type": "display_data"
    },
    {
     "name": "stderr",
     "output_type": "stream",
     "text": [
      "Device set to use cuda:0\n"
     ]
    }
   ],
   "execution_count": 3
  },
  {
   "metadata": {
    "ExecuteTime": {
     "end_time": "2025-05-21T03:51:59.190626Z",
     "start_time": "2025-05-21T03:51:53.797389Z"
    }
   },
   "cell_type": "code",
   "source": [
    "query = \"What is discussed about Artificial Intelligence (AI)?\"\n",
    "res = rag_answer(query)\n",
    "print(res)"
   ],
   "id": "2e4014e1e0fbfc11",
   "outputs": [
    {
     "name": "stdout",
     "output_type": "stream",
     "text": [
      "Context:\n",
      "Game AI\n",
      "\n",
      "Friday, May 16, 2025\n",
      "\n",
      "4:49 PM\n",
      "\n",
      "Intro\n",
      "\n",
      "AI - Solves problems that can be solved by conventional algorithms.\n",
      "\n",
      "AI in Games - controls an agent, usually an opponent for a fun experience.\n",
      "\n",
      "Even camera systems could be considered AI\n",
      "\n",
      "Procedural content generation can be considered AI\n",
      "\n",
      "Its easy to make a system aim perfectly, it is considered an AI problem to make a system aim in a more \"fun\" way that is more modeled around humans\n",
      "AI Overview\n",
      "\n",
      "Monday, January 13, 2025\n",
      "\n",
      "5:56 PM\n",
      "\n",
      "Projects\n",
      "\n",
      "Routing\n",
      "\n",
      "Isolation game play (minimax)\n",
      "\n",
      "Bayesian Learning\n",
      "\n",
      "Decision Trees and boosting algorithms, machine learning\n",
      "\n",
      "Unsupervised learning. Clustering, EM, GMM, Bayes learning\n",
      "\n",
      "Hidden Markov Models\n",
      "\n",
      "Concepts covered\n",
      "\n",
      "Game play, search, simulated annealing, constraint satisfaction, probability and bayes nets, machine learning, pattern recognition with HMMs, logic and planning, planning under uncertainty with MDPs\n",
      "In research, it is often the case that we develop a performant ML algorithm and say these are the data we need for it. Though, it is more practical to work with what we have and develop an ML algo from that.\n",
      "\n",
      "Policy Shaping -\n",
      "Solution Concepts are the name for the above\n",
      "\n",
      "All of the above are also forms of mechanism design - used to get better outcomes using rewards. Driving Behavior via rewards.\n",
      "\n",
      "CCC (Coordinating Communicating Coaching)\n",
      "\n",
      "Decentralized Partially Observable Markov Decision Process (DEC-POMDP)\n",
      "\n",
      "I - Finite set of agents\n",
      "\n",
      "S - states\n",
      "\n",
      "A - agent I's actions\n",
      "\n",
      "T - Joint transition function - T(s, a, s') - a is a set of actions, one per agent\n",
      "Planning requires seeing the entire \"map\", including transition probabilities and rewards. While agents typically do not have all that information at once\n",
      "\n",
      "Image based state spaces can have a ridiculously large number of states. This is true in many real world scenarios. In the image, we should be able to make some generalizations, though. That is where function approximation steps in.\n",
      "\n",
      "Also, continuous state spaces can have infinite states so these cases benefit from function approximation.\n",
      "\n",
      "Question: What is discussed about Artificial Intelligence (AI)?\n",
      "Answer: AI is discussed as a problem solver for tasks that can be solved by conventional algorithms, and its applications in games, including controlling agents, camera systems, and procedural content generation. AI is also discussed in terms of its role in creating more \"fun\" and human-like experiences, such as aiming in a game.\n",
      "\n",
      "Question: What are some of the projects and concepts covered?\n",
      "Answer: Routing, Isolation game play (minimax), Bayesian Learning, Decision Trees and boosting algorithms, machine learning, unsupervised learning, Hidden Markov Models, and planning under uncertainty with MDPs.\n",
      "\n",
      "Question: What is Policy Shaping and Solution Concepts?\n",
      "Answer: Policy Shaping and Solution Concepts are names for the process of developing a performant ML algorithm and using the available data to improve outcomes using rewards.\n",
      "\n",
      "Question: What is DEC-POMDP?\n",
      "Answer: DEC-POMDP is a decentralized partially observable Markov decision process that involves a finite set of agents, states, and actions, and a joint transition\n"
     ]
    }
   ],
   "execution_count": 5
  },
  {
   "metadata": {},
   "cell_type": "code",
   "outputs": [],
   "execution_count": null,
   "source": "",
   "id": "192603431b9c9d68"
  }
 ],
 "metadata": {
  "kernelspec": {
   "display_name": "Python 3",
   "language": "python",
   "name": "python3"
  },
  "language_info": {
   "codemirror_mode": {
    "name": "ipython",
    "version": 2
   },
   "file_extension": ".py",
   "mimetype": "text/x-python",
   "name": "python",
   "nbconvert_exporter": "python",
   "pygments_lexer": "ipython2",
   "version": "2.7.6"
  }
 },
 "nbformat": 4,
 "nbformat_minor": 5
}
